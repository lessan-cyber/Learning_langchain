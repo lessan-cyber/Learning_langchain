{
 "cells": [
  {
   "cell_type": "markdown",
   "id": "dfa5da54",
   "metadata": {},
   "source": [
    "# Learning Langchain\n"
   ]
  },
  {
   "cell_type": "markdown",
   "id": "28e1da97",
   "metadata": {},
   "source": [
    "## Definition of langchain\n",
    "\n",
    "Langchain is a framework design for building apps using LLMs , it is model agnostic which means that you can you use it with any LLMs\n",
    "it has a modular architecture and is based on conponents and chains\n",
    "\n",
    "---\n",
    "\n",
    "- Conponents ou modules are reusable elements that executer specific taks ,like data-entry , accessing external data , managing workflows and memory integration\n",
    "- Chains are sequences of conponents or modules that work together to complete a goal like summarise a doc, generate an article , or provide recommandations.\n",
    "\n",
    "---\n",
    "\n",
    "chains are very important in the way langchain manage workflows .\n",
    "\n",
    "---\n",
    "\n",
    "In langchain ecosystem there is serveral other frameworks :\n",
    "\n",
    "- LangGraph : it is base on `langchain Core`\n",
    "- Langsmith is a platforme built by Langchain . it main purpose is to help devs with observability of their LLM apps . Langsmith is integrated in the langchain ecosystem but can be use outside of it\n"
   ]
  },
  {
   "cell_type": "markdown",
   "id": "78f49342",
   "metadata": {},
   "source": [
    "## setting up langsmith for obervability\n"
   ]
  },
  {
   "cell_type": "code",
   "execution_count": 2,
   "id": "ed5ed56e",
   "metadata": {},
   "outputs": [
    {
     "name": "stdout",
     "output_type": "stream",
     "text": [
      "\u001b[2K\u001b[2mResolved \u001b[1m79 packages\u001b[0m \u001b[2min 2.72s\u001b[0m\u001b[0m                                        \u001b[0m\n",
      "\u001b[2K\u001b[37m⠹\u001b[0m \u001b[2mPreparing packages...\u001b[0m (0/2)                                                   \u001b[37m⠋\u001b[0m \u001b[2mResolving dependencies...                                                     \u001b[0m\n",
      "\u001b[2K\u001b[1A\u001b[37m⠹\u001b[0m \u001b[2mPreparing packages...\u001b[0m (0/2)-------\u001b[0m\u001b[0m     0 B/19.78 KiB                  \u001b[1A\n",
      "\u001b[2K\u001b[1A\u001b[37m⠹\u001b[0m \u001b[2mPreparing packages...\u001b[0m (0/2)2m-----\u001b[0m\u001b[0m 16.00 KiB/19.78 KiB                \u001b[1A\n",
      "\u001b[2K\u001b[1A\u001b[37m⠹\u001b[0m \u001b[2mPreparing packages...\u001b[0m (0/2)---\u001b[2m\u001b[0m\u001b[0m 19.78 KiB/19.78 KiB                \u001b[1A\n",
      "\u001b[2mdotenv    \u001b[0m \u001b[32m\u001b[2m------------------------------\u001b[0m\u001b[0m     0 B/1.85 KiB\n",
      "\u001b[2K\u001b[2A\u001b[37m⠹\u001b[0m \u001b[2mPreparing packages...\u001b[0m (0/2)---\u001b[2m\u001b[0m\u001b[0m 19.78 KiB/19.78 KiB                \u001b[2A\n",
      "\u001b[2K\u001b[1A\u001b[37m⠹\u001b[0m \u001b[2mPreparing packages...\u001b[0m (0/2)----\u001b[0m\u001b[0m     0 B/1.85 KiB                      \u001b[1A\n",
      "\u001b[2K\u001b[2mPrepared \u001b[1m2 packages\u001b[0m \u001b[2min 306ms\u001b[0m\u001b[0m                                                 \u001b[1A\n",
      "\u001b[2K\u001b[2mInstalled \u001b[1m2 packages\u001b[0m \u001b[2min 5ms\u001b[0m\u001b[0m                                 \u001b[0m\n",
      " \u001b[32m+\u001b[39m \u001b[1mdotenv\u001b[0m\u001b[2m==0.9.9\u001b[0m\n",
      " \u001b[32m+\u001b[39m \u001b[1mpython-dotenv\u001b[0m\u001b[2m==1.1.0\u001b[0m\n"
     ]
    }
   ],
   "source": [
    "!uv add dotenv"
   ]
  },
  {
   "cell_type": "code",
   "execution_count": 71,
   "id": "d70324bb",
   "metadata": {},
   "outputs": [],
   "source": [
    "import os\n",
    "from dotenv import load_dotenv\n",
    "from langchain_google_genai import ChatGoogleGenerativeAI\n",
    "from langchain_google_genai import GoogleGenerativeAIEmbeddings\n",
    "from langchain.prompts import SystemMessagePromptTemplate, HumanMessagePromptTemplate\n",
    "from langchain.prompts import ChatPromptTemplate, PromptTemplate\n",
    "from langchain_core.output_parsers import StrOutputParser\n",
    "from langchain_core.prompts import ChatPromptTemplate\n",
    "from langchain.schema.output_parser import StrOutputParser"
   ]
  },
  {
   "cell_type": "code",
   "execution_count": 5,
   "id": "93aae078",
   "metadata": {},
   "outputs": [],
   "source": [
    "# load environment variables\n",
    "load_dotenv()\n",
    "# get the environment variables\n",
    "LANGSMITH_TRACING = os.getenv(\"LANGSMITH_TRACING\")\n",
    "LANGSMITH_ENDPOINT = os.getenv(\"LANGSMITH_ENDPOINT\")\n",
    "LANGSMITH_API_KEY = os.getenv(\"LANGSMITH_API_KEY\")\n",
    "LANGSMITH_PROJECT = os.getenv(\"LANGSMITH_PROJECT\")\n",
    "GOOGLE_API_KEY = os.getenv(\"GOOGLE_API_KEY\")"
   ]
  },
  {
   "cell_type": "markdown",
   "id": "ed1adc21",
   "metadata": {},
   "source": [
    "## channing 1\n"
   ]
  },
  {
   "cell_type": "code",
   "execution_count": 59,
   "id": "719ae17f",
   "metadata": {},
   "outputs": [],
   "source": [
    "llm = ChatGoogleGenerativeAI(\n",
    "    model=\"gemini-1.5-flash\",\n",
    "    temperature=0.5,\n",
    "    max_output_tokens=1000,\n",
    ")"
   ]
  },
  {
   "cell_type": "code",
   "execution_count": 60,
   "id": "ec2e1720",
   "metadata": {},
   "outputs": [
    {
     "data": {
      "text/plain": [
       "AIMessage(content='I am doing well, thank you for asking!  How are you today?', additional_kwargs={}, response_metadata={'prompt_feedback': {'block_reason': 0, 'safety_ratings': []}, 'finish_reason': 'STOP', 'model_name': 'gemini-1.5-flash', 'safety_ratings': []}, id='run--3394961c-6aa3-4f29-8287-f93aa0735350-0', usage_metadata={'input_tokens': 6, 'output_tokens': 17, 'total_tokens': 23, 'input_token_details': {'cache_read': 0}})"
      ]
     },
     "execution_count": 60,
     "metadata": {},
     "output_type": "execute_result"
    }
   ],
   "source": [
    "llm.invoke(\"Hello, how are you?\")"
   ]
  },
  {
   "cell_type": "code",
   "execution_count": 64,
   "id": "67e66800",
   "metadata": {},
   "outputs": [],
   "source": [
    "system_prompt = SystemMessagePromptTemplate.from_template(\n",
    "    \"You are an expert in marketing and promoting cultural evenent like concerts, \"\n",
    "    \"exhibitions, and festivals. You are a marketing expert with 10 years of experience in the field.\"\n",
    "    \" You are very creative and you have a lot of ideas.\"\n",
    "    \" You are very good at writing and you can write very well. \"\n",
    "    \"You have 10 years of experience, are very creative, and excellent at writing viral content.\"\n",
    ")\n",
    "user_prompt = HumanMessagePromptTemplate.from_template(\n",
    "    \"\"\"\n",
    "I am organizing a concert in Paris. \n",
    "Your role is to write a social media viral type post to promote the event.\n",
    "the post have to be very catchy and engaging. and less than 100 words.\n",
    "The artist is {artist} and the date is {date}. \n",
    "The artist is known for {reputation}.\n",
    "The concert will be held at {venue} and the ticket price is {ticket_price}.\n",
    "\"\"\"\n",
    ")"
   ]
  },
  {
   "cell_type": "code",
   "execution_count": 65,
   "id": "8f152841",
   "metadata": {},
   "outputs": [
    {
     "data": {
      "text/plain": [
       "HumanMessage(content='\\nI am organizing a concert in Paris. \\nYour role is to write a social media viral type post to promote the event.\\nthe post have to be very catchy and engaging. and less than 100 words.\\nThe artist is Taylor Swift and the date is 2023-10-01. \\nThe artist is known for a pop star with a huge fan base .\\nThe concert will be held at Accor Arena and the ticket price is $100.\\n', additional_kwargs={}, response_metadata={})"
      ]
     },
     "execution_count": 65,
     "metadata": {},
     "output_type": "execute_result"
    }
   ],
   "source": [
    "user_prompt.format(\n",
    "    artist=\"Taylor Swift\",\n",
    "    date=\"2023-10-01\",\n",
    "    reputation=\"a pop star with a huge fan base \",\n",
    "    venue=\"Accor Arena\",\n",
    "    ticket_price=\"$100\",\n",
    ")"
   ]
  },
  {
   "cell_type": "code",
   "execution_count": 66,
   "id": "c9029265",
   "metadata": {},
   "outputs": [],
   "source": [
    "first_prompt = ChatPromptTemplate.from_messages([system_prompt, user_prompt])"
   ]
  },
  {
   "cell_type": "code",
   "execution_count": 67,
   "id": "279b8207",
   "metadata": {},
   "outputs": [
    {
     "name": "stdout",
     "output_type": "stream",
     "text": [
      "System: You are an expert in marketing and promoting cultural evenent like concerts, exhibitions, and festivals. You are a marketing expert with 10 years of experience in the field. You are very creative and you have a lot of ideas. You are very good at writing and you can write very well. You have 10 years of experience, are very creative, and excellent at writing viral content.\n",
      "Human: \n",
      "I am organizing a concert in Paris. \n",
      "Your role is to write a social media viral type post to promote the event.\n",
      "the post have to be very catchy and engaging. and less than 100 words.\n",
      "The artist is Taylor Swift and the date is 2023-10-01. \n",
      "The artist is known for a pop star with a huge fan base .\n",
      "The concert will be held at Accor Arena and the ticket price is $100.\n",
      "\n"
     ]
    }
   ],
   "source": [
    "print(\n",
    "    first_prompt.format(\n",
    "        artist=\"Taylor Swift\",\n",
    "        date=\"2023-10-01\",\n",
    "        reputation=\"a pop star with a huge fan base \",\n",
    "        venue=\"Accor Arena\",\n",
    "        ticket_price=\"$100\",\n",
    "    )\n",
    ")\n"
   ]
  },
  {
   "cell_type": "code",
   "execution_count": 68,
   "id": "dc731db3",
   "metadata": {},
   "outputs": [],
   "source": [
    "chain = first_prompt | llm | StrOutputParser()\n"
   ]
  },
  {
   "cell_type": "code",
   "execution_count": 69,
   "id": "0a6ec59e",
   "metadata": {},
   "outputs": [],
   "source": [
    "post = chain.invoke(\n",
    "    {\n",
    "        \"artist\": \"Kendrick Lamar\",\n",
    "        \"date\": \"2023-10-01\",\n",
    "        \"reputation\": \"Kendrick Lamar is a Grammy-winning rapper known for his thought-provoking lyrics and powerful performances. He is known for songs like 'Not Like Us', 'DNA', 'HUMBLE', and many more.\",\n",
    "        \"venue\": \"Accor Arena\",\n",
    "        \"ticket_price\": \"$100\",\n",
    "    }\n",
    ")\n"
   ]
  },
  {
   "cell_type": "code",
   "execution_count": 70,
   "id": "2c2443ba",
   "metadata": {},
   "outputs": [
    {
     "name": "stdout",
     "output_type": "stream",
     "text": [
      "**Option 1 (Focus on urgency & FOMO):**\n",
      "\n",
      "🔥 PARIS! 🔥 Kendrick Lamar LIVE at Accor Arena, October 1st!  His legendary rhymes are coming to town.  Tickets are FLYING – snag yours NOW before they're GONE!  $100.  [Link to tickets] #KendrickLamarParis #AccorArena #ParisConcert #HipHop #SoldOutSoon\n",
      "\n",
      "\n",
      "**Option 2 (Focus on experience):**\n",
      "\n",
      "Experience Kendrick Lamar's UNFORGETTABLE energy LIVE in Paris!  Accor Arena, October 1st.  Witness the Grammy-winning legend perform 'HUMBLE,' 'DNA,' and more.  Tickets: $100. [Link to tickets] #KendrickLamar #Paris #Concert #HipHop #MustSee\n",
      "\n",
      "\n",
      "**Option 3 (More playful & meme-able):**\n",
      "\n",
      "My therapist told me to embrace my obsessions... so I bought tickets to see Kendrick Lamar in PARIS!  October 1st, Accor Arena.  Join me? 😉 $100. [Link to tickets] #KendrickLamar #Paris #Concert #Therapy #HipHop\n",
      "\n",
      "\n",
      "**Option 4 (Short & sweet):**\n",
      "\n",
      "Kendrick Lamar. Paris. October 1st. Accor Arena.  $100.  Need we say more?  GET TICKETS! [Link to tickets] #KendrickLamarParis #Concert\n",
      "\n",
      "\n",
      "**Pro-Tip:**  For all options, use a high-quality image or short video clip of Kendrick Lamar performing.  Consider running targeted Facebook/Instagram ads to maximize reach.\n"
     ]
    }
   ],
   "source": [
    "print(post)\n"
   ]
  },
  {
   "cell_type": "markdown",
   "id": "6165dd4e",
   "metadata": {},
   "source": [
    "# chainning 2\n"
   ]
  },
  {
   "cell_type": "code",
   "execution_count": 75,
   "id": "9e59b085",
   "metadata": {},
   "outputs": [
    {
     "name": "stdout",
     "output_type": "stream",
     "text": [
      "The best name will depend on the brand image you want to project (luxury, futuristic, practical, etc.). Here are some ideas, categorized for easier selection:\n",
      "\n",
      "**Futuristic & Tech-Focused:**\n",
      "\n",
      "* AeroDrive\n",
      "* SkyDrive Dynamics\n",
      "* Zenith Aviation\n",
      "* Aether Motors\n",
      "* IonFlight\n",
      "* Quantum Ascent\n",
      "* NovaFlight\n",
      "* SkySpark Technologies\n",
      "* Vertical Dynamics\n",
      "* Apex Aeronautics\n",
      "\n",
      "**Elegant & Sophisticated:**\n",
      "\n",
      "* Aerion Motors\n",
      "* Celestial Flight\n",
      "* Nimbus Automotive\n",
      "* Elysian Skies\n",
      "* Sovereign Aero\n",
      "* Paragon Aviation\n",
      "* Zenith Aero\n",
      "* Skybourne Motors\n",
      "\n",
      "**Practical & Approachable:**\n",
      "\n",
      "* Skyway Motors\n",
      "* Air Mobility Solutions\n",
      "* Urban Air\n",
      "* Commuter Skies\n",
      "* SkyRunner\n",
      "* AeroTransit\n",
      "* FlightLine\n",
      "* AirVoyager\n",
      "\n",
      "**Bold & Adventurous:**\n",
      "\n",
      "* Skybound\n",
      "* Apex Flight\n",
      "* Renegade Aero\n",
      "* Maverick Aviation\n",
      "* Pathfinder Aero\n",
      "* Horizon Chasers\n",
      "\n",
      "\n",
      "**Tips for Choosing:**\n",
      "\n",
      "* **Check for availability:** Make sure the name isn't already taken and that the domain name is available.\n",
      "* **Keep it short and memorable:**  Easy to recall and pronounce.\n",
      "* **Reflect your brand:**  Choose a name that aligns with your company's values and target market.\n",
      "* **Get feedback:** Ask others for their opinions on your favorite names.\n",
      "\n",
      "\n",
      "Remember to also consider adding a tagline to further clarify your brand and what your flying cars offer.  For example, \"AeroDrive: The Future of Flight,\" or \"SkyRunner: Your Personal Air Commute.\"\n"
     ]
    }
   ],
   "source": [
    "prompt = PromptTemplate.from_template(\n",
    "    \" what is a good company name for a company that makes {product}?\"\n",
    ")\n",
    "chain = prompt | llm | StrOutputParser()\n",
    "company_name = chain.invoke({\"product\": \"flying cars\"})\n",
    "print(company_name)"
   ]
  },
  {
   "cell_type": "markdown",
   "id": "710d8a2c",
   "metadata": {},
   "source": []
  },
  {
   "cell_type": "code",
   "execution_count": 79,
   "id": "f5df4f68",
   "metadata": {},
   "outputs": [
    {
     "name": "stdout",
     "output_type": "stream",
     "text": [
      "Brand Name: AetherWing\n",
      "Slogan: Your Sky. Your Ride. Your App.\n"
     ]
    }
   ],
   "source": [
    "description_prompt = PromptTemplate.from_template(\n",
    "    \"You are a world-class branding expert. Given a product description, come up with:\\n\"\n",
    "    \"- A **brand name** that is unique, catchy, and memorable.\\n\"\n",
    "    \"- A **slogan** that is creative, engaging, and aligned with the product.\\n\\n\"\n",
    "    \"Product description: {product_description}\\n\\n\"\n",
    "    \"Return the result in the format:\\nBrand Name: <name>\\nSlogan: <slogan>\"\n",
    ")\n",
    "\n",
    "chain = description_prompt | llm | StrOutputParser()\n",
    "\n",
    "result = chain.invoke(\n",
    "    {\n",
    "        \"product_description\": \"a flying car that is self-driving and can be summoned via an app.\",\n",
    "    }\n",
    ")\n",
    "\n",
    "print(result)\n"
   ]
  },
  {
   "cell_type": "code",
   "execution_count": 83,
   "id": "832b721a",
   "metadata": {},
   "outputs": [
    {
     "name": "stdout",
     "output_type": "stream",
     "text": [
      "Slogan: SkyLeap: Reach New Heights.\n"
     ]
    }
   ],
   "source": [
    "get_name_prompt = PromptTemplate.from_template(\n",
    "    \"You are a world-class branding expert. Given a product description, come up with:\\n\"\n",
    "    \"- A **brand name** that is unique, catchy, and memorable.\\n\"\n",
    "    \"Product description: {product_description}\\n\\n\"\n",
    "    \"Return the result in the format:\\nBrand Name: <name>\"\n",
    ")\n",
    "get_slogan_prompt = PromptTemplate.from_template(\n",
    "    \"You are a world-class branding expert. Given a product name, come up with:\\n\"\n",
    "    \"- A **slogan** that is creative, engaging, and aligned with the product.\\n\\n\"\n",
    "    \"Product description: {product_name}\\n\\n\"\n",
    "    \"Return the result in the format:\\nSlogan: <slogan>\"\n",
    ")\n",
    "chain_brand = get_name_prompt | llm | get_slogan_prompt | llm | StrOutputParser()\n",
    "\n",
    "brand = chain_brand.invoke(\n",
    "    {\n",
    "        \"product_description\": \"a flying car that is self-driving and can be summoned via an app.\",\n",
    "    }\n",
    ")\n",
    "print(brand)"
   ]
  },
  {
   "cell_type": "code",
   "execution_count": 84,
   "id": "225ee055",
   "metadata": {},
   "outputs": [
    {
     "name": "stdout",
     "output_type": "stream",
     "text": [
      "{'brand_name': 'SkyCall', 'slogan': {'slogan': 'Connect Beyond Limits.'}}\n"
     ]
    }
   ],
   "source": [
    "from langchain.schema.runnable import RunnableLambda, RunnableMap\n",
    "\n",
    "\n",
    "get_name_prompt = PromptTemplate.from_template(\n",
    "    \"You are a world-class branding expert. Given a product description, come up with:\\n\"\n",
    "    \"- A **brand name** that is unique, catchy, and memorable.\\n\"\n",
    "    \"Product description: {product_description}\\n\\n\"\n",
    "    \"Return the result in the format:\\nBrand Name: <name>\"\n",
    ")\n",
    "get_name_chain = get_name_prompt | llm | StrOutputParser()\n",
    "\n",
    "\n",
    "extract_brand_name = RunnableLambda(\n",
    "    lambda text: {\"brand_name\": text.split(\":\")[-1].strip()}\n",
    ")\n",
    "\n",
    "get_slogan_prompt = PromptTemplate.from_template(\n",
    "    \"You are a world-class branding expert. Given a product name, come up with:\\n\"\n",
    "    \"- A **slogan** that is creative, engaging, and aligned with the product.\\n\\n\"\n",
    "    \"Product name: {brand_name}\\n\\n\"\n",
    "    \"Return the result in the format:\\nSlogan: <slogan>\"\n",
    ")\n",
    "get_slogan_chain = get_slogan_prompt | llm | StrOutputParser()\n",
    "\n",
    "extract_slogan = RunnableLambda(lambda text: {\"slogan\": text.split(\":\")[-1].strip()})\n",
    "\n",
    "\n",
    "full_chain = (\n",
    "    get_name_chain\n",
    "    | extract_brand_name\n",
    "    | RunnableMap(\n",
    "        {\n",
    "            \"brand_name\": RunnableLambda(lambda x: x[\"brand_name\"]),\n",
    "            \"slogan\": (\n",
    "                RunnableLambda(lambda x: {\"brand_name\": x[\"brand_name\"]})\n",
    "                | get_slogan_chain\n",
    "                | extract_slogan\n",
    "            ),\n",
    "        }\n",
    "    )\n",
    ")\n",
    "\n",
    "result = full_chain.invoke(\n",
    "    {\n",
    "        \"product_description\": \"a flying car that is self-driving and can be summoned via an app.\",\n",
    "    }\n",
    ")\n",
    "\n",
    "print(result)\n"
   ]
  },
  {
   "cell_type": "code",
   "execution_count": 99,
   "id": "4d29fc11",
   "metadata": {},
   "outputs": [
    {
     "name": "stdout",
     "output_type": "stream",
     "text": [
      "{'brand_name': 'SkyCall', 'slogan': {'slogan': 'Connecting you to what matters, high and clear.'}, 'post': '##  🤯  Is YOUR phone call quality giving you a headache?  🤯\\n\\nLet\\'s be honest, dropped calls, static, and that soul-crushing \"you\\'ve been disconnected\" message are the WORST.  😫\\n\\nBut what if I told you there\\'s a solution?  A crystal-clear, high-flying, unbelievably AMAZING solution? ✨\\n\\nIntroducing **SkyCall!** 🚀\\n\\n**(Image: A stunning, high-resolution image or short video showing someone happily using a SkyCall device in a beautiful, high-altitude setting – maybe a mountaintop, hot air balloon, or even space!  Emphasis on clear skies and a strong signal.)**\\n\\nSkyCall isn\\'t just another phone service.  It\\'s a **revolution**.  We\\'re talking:\\n\\n* **Unbreakable Connection:** Say goodbye to dropped calls FOREVER!\\n* **Crystal-Clear Audio:** Hear every word, every nuance, like you\\'re in the same room.\\n* **Blazing-Fast Speeds:** Download and stream without the lag.\\n* **Unbeatable Coverage:**  We\\'ve got you covered, from city streets to mountain peaks!\\n\\n**SkyCall: Connecting you to what matters, high and clear.**\\n\\nReady to experience the difference?  Click the link below for a FREE trial! 👇\\n\\n[Link to SkyCall website/landing page]\\n\\n**#SkyCall #NoMoreDroppedCalls #CrystalClearAudio #HighAltitudeConnection #PhoneService #Tech #Innovation #MustHave #FreeTrial #UpgradeYourLife #Wireless #Connection #AmazingTechnology**\\n\\n\\n**Bonus Engagement:**\\n\\n* **Run a contest:**  Ask users to share their worst dropped call story for a chance to win a free year of SkyCall.\\n* **Use interactive elements:**  Include a poll asking users about their biggest phone call frustrations.\\n* **Respond to comments:** Engage with users directly and answer their questions.\\n\\n\\nThis post uses strong visuals, emotional language, and clear benefits to grab attention and encourage engagement.  The hashtags are diverse and targeted to reach a wider audience. Remember to tailor the image and video to your specific target demographic for maximum impact!'}\n"
     ]
    }
   ],
   "source": [
    "# Prompts\n",
    "get_name_prompt = PromptTemplate.from_template(\n",
    "    \"Create a catchy brand name for the following product: {product_description}\\nFormat: Brand Name: <name>\"\n",
    ")\n",
    "\n",
    "get_slogan_prompt = PromptTemplate.from_template(\n",
    "    \"Write a slogan for the brand: {brand_name}\\nFormat: Slogan: <slogan>\"\n",
    ")\n",
    "\n",
    "get_post_prompt = PromptTemplate.from_template(\n",
    "    \"You are a social media marketing expert. Write a viral post to promote a product with:\\n\"\n",
    "    \"- Brand Name: {brand_name}\\n\"\n",
    "    \"- Slogan: {slogan}\\n\"\n",
    "    \"Be creative, energetic, and hook the reader!\"\n",
    ")\n",
    "\n",
    "# Sous-chaîne: nom de marque\n",
    "get_name_chain = get_name_prompt | llm | StrOutputParser()\n",
    "extract_brand_name = RunnableLambda(lambda x: {\"brand_name\": x.split(\":\")[-1].strip()})\n",
    "\n",
    "# Sous-chaîne: slogan\n",
    "get_slogan_chain = get_slogan_prompt | llm | StrOutputParser()\n",
    "extract_slogan = RunnableLambda(lambda x: {\"slogan\": x.split(\":\")[-1].strip()})\n",
    "\n",
    "# Sous-chaîne: post viral\n",
    "get_post_chain = get_post_prompt | llm | StrOutputParser()\n",
    "\n",
    "full_chain = (\n",
    "    get_name_chain\n",
    "    | extract_brand_name\n",
    "    | RunnableMap(\n",
    "        {\n",
    "            \"brand_name\": RunnableLambda(lambda x: x[\"brand_name\"]),\n",
    "            \"slogan\": (\n",
    "                RunnableLambda(lambda x: {\"brand_name\": x[\"brand_name\"]})\n",
    "                | get_slogan_chain\n",
    "                | extract_slogan\n",
    "            ),\n",
    "        }\n",
    "    )\n",
    "    | RunnableMap(\n",
    "        {\n",
    "            \"brand_name\": RunnableLambda(lambda x: x[\"brand_name\"]),\n",
    "            \"slogan\": RunnableLambda(lambda x: x[\"slogan\"]),\n",
    "            \"post\": (\n",
    "                RunnableLambda(\n",
    "                    lambda x: {\n",
    "                        \"brand_name\": x[\"brand_name\"],\n",
    "                        \"slogan\": x[\"slogan\"],\n",
    "                    }\n",
    "                )\n",
    "                | get_post_chain\n",
    "            ),\n",
    "        }\n",
    "    )\n",
    ")\n",
    "result = full_chain.invoke(\n",
    "    {\n",
    "        \"product_description\": \"a flying car that is self-driving and can be summoned via an app.\",\n",
    "    }\n",
    ")\n",
    "print(result)"
   ]
  },
  {
   "cell_type": "code",
   "execution_count": null,
   "id": "d7533a16",
   "metadata": {},
   "outputs": [],
   "source": []
  }
 ],
 "metadata": {
  "kernelspec": {
   "display_name": ".venv",
   "language": "python",
   "name": "python3"
  },
  "language_info": {
   "codemirror_mode": {
    "name": "ipython",
    "version": 3
   },
   "file_extension": ".py",
   "mimetype": "text/x-python",
   "name": "python",
   "nbconvert_exporter": "python",
   "pygments_lexer": "ipython3",
   "version": "3.12.8"
  }
 },
 "nbformat": 4,
 "nbformat_minor": 5
}
